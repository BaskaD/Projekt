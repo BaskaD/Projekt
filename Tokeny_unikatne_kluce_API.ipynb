{
 "cells": [
  {
   "cell_type": "code",
   "execution_count": null,
   "metadata": {},
   "outputs": [],
   "source": []
  },
  {
   "cell_type": "markdown",
   "metadata": {},
   "source": [
    "Ukázkové API – aktuální data\n",
    "API vyžaduje autentizaci – po registraci na exchangeratesapi.io obdržíte svůj unikátní token, který by měl být připojen ke každé žádosti.\n",
    "\n",
    "Níže je uveden příklad, který se dotáže API na aktuální směnný kurz:"
   ]
  },
  {
   "cell_type": "code",
   "execution_count": null,
   "metadata": {},
   "outputs": [],
   "source": [
    "import requests \n",
    "response = requests.get('https://api.exchangeratesapi.io/latest?access_key=your-secret-code')\n",
    " \n",
    "currency_data = response.json()['rates']\n",
    " \n",
    "print(f \"Today's conversion rate between EUR and CAD is {currency_data['CAD']}\")"
   ]
  },
  {
   "cell_type": "code",
   "execution_count": 3,
   "metadata": {},
   "outputs": [
    {
     "name": "stdout",
     "output_type": "stream",
     "text": [
      "Počasí v Praze je: scattered clouds\n"
     ]
    }
   ],
   "source": [
    "import requests\n",
    "\n",
    "def get_weather(city, state=\"\", country=\"\"):\n",
    "  # Nahraďte 'YOUR_APPID' svým appid z OpenWeatherMap\n",
    "  appid = 'c312f30415de9c539d34d4fbd513df4c'  # Získejte si svůj appid na https://openweathermap.org/appid\n",
    "  # Vytvořte URL adresu API s poskytnutými argumenty\n",
    "  url = f\"https://api.openweathermap.org/data/2.5/weather?q={city}&appid={appid}\"\n",
    "  # Pokud jsou zadány, přidejte stát a zemi\n",
    "  if state:\n",
    "    url += f\"&state={state}\"\n",
    "  if country:\n",
    "    url += f\"&country={country}\"\n",
    "\n",
    "  # Odeslání požadavku na API a získání odpovědi\n",
    "  response = requests.get(url)\n",
    "\n",
    "  # Zkontrolujte, zda byl požadavek úspěšný\n",
    "  if response.status_code == 200:\n",
    "    # Parsování JSONové odpovědi\n",
    "    data = response.json()\n",
    "    # Získání popisu počasí (upravte pro získání dalších údajů)\n",
    "    weather = data['weather'][0]['description']\n",
    "    return weather\n",
    "  else:\n",
    "    # Zpracování neúspěšného požadavku (např. tisk chybové zprávy)\n",
    "    print(f\"Chyba: Požadavek na API selhal s kódem stavu {response.status_code}\")\n",
    "    return None\n",
    "\n",
    "# Volat funkci get_weather pro Prahu\n",
    "weather = get_weather(\"Praha\")\n",
    "\n",
    "if weather:\n",
    "  print(f\"Počasí v Praze je: {weather}\")\n"
   ]
  }
 ],
 "metadata": {
  "kernelspec": {
   "display_name": "base",
   "language": "python",
   "name": "python3"
  },
  "language_info": {
   "codemirror_mode": {
    "name": "ipython",
    "version": 3
   },
   "file_extension": ".py",
   "mimetype": "text/x-python",
   "name": "python",
   "nbconvert_exporter": "python",
   "pygments_lexer": "ipython3",
   "version": "3.11.7"
  }
 },
 "nbformat": 4,
 "nbformat_minor": 2
}
